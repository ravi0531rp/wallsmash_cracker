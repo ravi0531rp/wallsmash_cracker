{
 "cells": [
  {
   "cell_type": "code",
   "execution_count": 1,
   "metadata": {},
   "outputs": [],
   "source": [
    "import numpy as np"
   ]
  },
  {
   "cell_type": "code",
   "execution_count": 2,
   "metadata": {},
   "outputs": [],
   "source": [
    "data = [[[[[20.0, 16.0], [109.0, 16.0], [109.0, 46.0], [20.0, 46.0]], ('Score:', 0.9978911876678467)], [[[119.0, 10.0], [170.0, 10.0], [170.0, 49.0], [119.0, 49.0]], ('21', 0.9994954466819763)], [[[193.0, 16.0], [479.0, 16.0], [479.0, 41.0], [193.0, 41.0]], ('Personal Best: 9.770', 0.979915976524353)]]]"
   ]
  },
  {
   "cell_type": "code",
   "execution_count": 3,
   "metadata": {},
   "outputs": [
    {
     "name": "stderr",
     "output_type": "stream",
     "text": [
      "/var/folders/yy/3wb0q0ps3nsfbp9hl0ncjtyw0000gq/T/ipykernel_95434/2348786604.py:1: VisibleDeprecationWarning: Creating an ndarray from ragged nested sequences (which is a list-or-tuple of lists-or-tuples-or ndarrays with different lengths or shapes) is deprecated. If you meant to do this, you must specify 'dtype=object' when creating the ndarray.\n",
      "  res = np.array(data).squeeze()\n"
     ]
    }
   ],
   "source": [
    "res = np.array(data).squeeze()"
   ]
  },
  {
   "cell_type": "code",
   "execution_count": 4,
   "metadata": {},
   "outputs": [
    {
     "name": "stdout",
     "output_type": "stream",
     "text": [
      "[[list([[20.0, 16.0], [109.0, 16.0], [109.0, 46.0], [20.0, 46.0]])\n",
      "  ('Score:', 0.9978911876678467)]\n",
      " [list([[119.0, 10.0], [170.0, 10.0], [170.0, 49.0], [119.0, 49.0]])\n",
      "  ('21', 0.9994954466819763)]\n",
      " [list([[193.0, 16.0], [479.0, 16.0], [479.0, 41.0], [193.0, 41.0]])\n",
      "  ('Personal Best: 9.770', 0.979915976524353)]]\n"
     ]
    }
   ],
   "source": [
    "print(res)"
   ]
  },
  {
   "cell_type": "code",
   "execution_count": 5,
   "metadata": {},
   "outputs": [],
   "source": [
    "texts = [res[i][1][0] for i in range(len(res))]"
   ]
  },
  {
   "cell_type": "code",
   "execution_count": 6,
   "metadata": {},
   "outputs": [
    {
     "data": {
      "text/plain": [
       "['Score:', '21', 'Personal Best: 9.770']"
      ]
     },
     "execution_count": 6,
     "metadata": {},
     "output_type": "execute_result"
    }
   ],
   "source": [
    "texts"
   ]
  },
  {
   "cell_type": "code",
   "execution_count": 7,
   "metadata": {},
   "outputs": [],
   "source": [
    "data = [[[[[65.0, 31.0], [249.0, 31.0], [249.0, 59.0], [65.0, 59.0]], ('[tap to restart]', 0.9987895488739014)]]]"
   ]
  },
  {
   "cell_type": "code",
   "execution_count": 8,
   "metadata": {},
   "outputs": [],
   "source": [
    "res = np.array(data, dtype='object').squeeze()"
   ]
  },
  {
   "cell_type": "code",
   "execution_count": 9,
   "metadata": {},
   "outputs": [
    {
     "name": "stdout",
     "output_type": "stream",
     "text": [
      "[list([[65.0, 31.0], [249.0, 31.0], [249.0, 59.0], [65.0, 59.0]])\n",
      " ('[tap to restart]', 0.9987895488739014)]\n"
     ]
    }
   ],
   "source": [
    "print(res)"
   ]
  },
  {
   "cell_type": "code",
   "execution_count": 12,
   "metadata": {},
   "outputs": [
    {
     "data": {
      "text/plain": [
       "'[tap to restart]'"
      ]
     },
     "execution_count": 12,
     "metadata": {},
     "output_type": "execute_result"
    }
   ],
   "source": [
    "res[1][0]"
   ]
  },
  {
   "cell_type": "code",
   "execution_count": null,
   "metadata": {},
   "outputs": [],
   "source": []
  }
 ],
 "metadata": {
  "kernelspec": {
   "display_name": "DataScienceML",
   "language": "python",
   "name": "python3"
  },
  "language_info": {
   "codemirror_mode": {
    "name": "ipython",
    "version": 3
   },
   "file_extension": ".py",
   "mimetype": "text/x-python",
   "name": "python",
   "nbconvert_exporter": "python",
   "pygments_lexer": "ipython3",
   "version": "3.9.15"
  },
  "orig_nbformat": 4,
  "vscode": {
   "interpreter": {
    "hash": "791a2af6f99a75a10524b06ec34f0e4eba92f648836922c427aa9f554c140344"
   }
  }
 },
 "nbformat": 4,
 "nbformat_minor": 2
}
